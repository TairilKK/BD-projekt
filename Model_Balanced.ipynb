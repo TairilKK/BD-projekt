{
 "cells": [
  {
   "cell_type": "code",
   "execution_count": 85,
   "metadata": {},
   "outputs": [],
   "source": [
    "from pyspark.sql import SparkSession\n",
    "from pyspark.ml.classification import RandomForestClassifier\n",
    "from pyspark.ml.feature import StringIndexer, VectorAssembler, StandardScaler\n",
    "from pyspark.ml import Pipeline"
   ]
  },
  {
   "cell_type": "code",
   "execution_count": 86,
   "metadata": {},
   "outputs": [],
   "source": [
    "SEED = 42"
   ]
  },
  {
   "cell_type": "code",
   "execution_count": 87,
   "metadata": {},
   "outputs": [],
   "source": [
    "spark = SparkSession.builder.appName(\"BigData projekt model 01\").getOrCreate()"
   ]
  },
  {
   "cell_type": "code",
   "execution_count": 88,
   "metadata": {},
   "outputs": [],
   "source": [
    "df = spark.read.csv(\"data/mountains_vs_beaches_preferences.csv\",\n",
    "                    sep=';',\n",
    "                    inferSchema=True,\n",
    "                    header=True)"
   ]
  },
  {
   "cell_type": "code",
   "execution_count": 89,
   "metadata": {},
   "outputs": [
    {
     "name": "stdout",
     "output_type": "stream",
     "text": [
      "Schema:\n",
      "root\n",
      " |-- Age: integer (nullable = true)\n",
      " |-- Gender: string (nullable = true)\n",
      " |-- Income: integer (nullable = true)\n",
      " |-- Education_Level: string (nullable = true)\n",
      " |-- Travel_Frequency: integer (nullable = true)\n",
      " |-- Preferred_Activities: string (nullable = true)\n",
      " |-- Vacation_Budget: integer (nullable = true)\n",
      " |-- Location: string (nullable = true)\n",
      " |-- Proximity_to_Mountains: integer (nullable = true)\n",
      " |-- Proximity_to_Beaches: integer (nullable = true)\n",
      " |-- Favorite_Season: string (nullable = true)\n",
      " |-- Pets: integer (nullable = true)\n",
      " |-- Environmental_Concerns: integer (nullable = true)\n",
      " |-- Preference: integer (nullable = true)\n",
      "\n"
     ]
    }
   ],
   "source": [
    "print(\"Schema:\")\n",
    "df.printSchema()"
   ]
  },
  {
   "cell_type": "code",
   "execution_count": 90,
   "metadata": {},
   "outputs": [
    {
     "name": "stdout",
     "output_type": "stream",
     "text": [
      "+----------+-----+\n",
      "|Preference|count|\n",
      "+----------+-----+\n",
      "|         1|13148|\n",
      "|         0|13123|\n",
      "+----------+-----+\n",
      "\n"
     ]
    }
   ],
   "source": [
    "from pyspark.sql import functions as F\n",
    "\n",
    "# Policz ilość wystąpień dla każdej klasy w kolumnie \"Preference\"\n",
    "class_counts = df.groupBy(\"Preference\").count().collect()\n",
    "\n",
    "# Znajdź minimalną liczbę próbek (najmniej liczebną klasę)\n",
    "min_class_count = min([row[\"count\"] for row in class_counts])\n",
    "\n",
    "# Wyrównanie klas przez undersampling\n",
    "balanced_df = None\n",
    "for row in class_counts:\n",
    "    class_label = row[\"Preference\"]\n",
    "    class_fraction = min_class_count / row[\"count\"]\n",
    "    sampled_class = df.filter(df.Preference == class_label).sample(withReplacement=False, fraction=class_fraction)\n",
    "    \n",
    "    if balanced_df is None:\n",
    "        balanced_df = sampled_class\n",
    "    else:\n",
    "        balanced_df = balanced_df.union(sampled_class)\n",
    "\n",
    "# Sprawdzenie wyrównanego zbioru\n",
    "balanced_df.groupBy(\"Preference\").count().show()\n"
   ]
  },
  {
   "cell_type": "code",
   "execution_count": 91,
   "metadata": {},
   "outputs": [
    {
     "name": "stdout",
     "output_type": "stream",
     "text": [
      "['Gender', 'Education_Level', 'Preferred_Activities', 'Location', 'Favorite_Season']\n"
     ]
    }
   ],
   "source": [
    "# Indeksowanie kolumn typu string (zakodowanie ich na wartości numeryczne)\n",
    "string_cols = [field.name for field in balanced_df.schema.fields if str(field.dataType) == 'StringType()']\n",
    "print(string_cols)\n",
    "for col in string_cols:\n",
    "    indexer = StringIndexer(inputCol=col, outputCol=f\"{col}_indexed\")\n",
    "    balanced_df = indexer.fit(balanced_df).transform(balanced_df)"
   ]
  },
  {
   "cell_type": "code",
   "execution_count": 92,
   "metadata": {},
   "outputs": [
    {
     "name": "stdout",
     "output_type": "stream",
     "text": [
      "Schema:\n",
      "root\n",
      " |-- Age: integer (nullable = true)\n",
      " |-- Gender: string (nullable = true)\n",
      " |-- Income: integer (nullable = true)\n",
      " |-- Education_Level: string (nullable = true)\n",
      " |-- Travel_Frequency: integer (nullable = true)\n",
      " |-- Preferred_Activities: string (nullable = true)\n",
      " |-- Vacation_Budget: integer (nullable = true)\n",
      " |-- Location: string (nullable = true)\n",
      " |-- Proximity_to_Mountains: integer (nullable = true)\n",
      " |-- Proximity_to_Beaches: integer (nullable = true)\n",
      " |-- Favorite_Season: string (nullable = true)\n",
      " |-- Pets: integer (nullable = true)\n",
      " |-- Environmental_Concerns: integer (nullable = true)\n",
      " |-- Preference: integer (nullable = true)\n",
      " |-- Gender_indexed: double (nullable = false)\n",
      " |-- Education_Level_indexed: double (nullable = false)\n",
      " |-- Preferred_Activities_indexed: double (nullable = false)\n",
      " |-- Location_indexed: double (nullable = false)\n",
      " |-- Favorite_Season_indexed: double (nullable = false)\n",
      "\n"
     ]
    }
   ],
   "source": [
    "# Sprawdzenie schematu danych\n",
    "print(\"Schema:\")\n",
    "balanced_df.printSchema()"
   ]
  },
  {
   "cell_type": "code",
   "execution_count": 93,
   "metadata": {},
   "outputs": [
    {
     "name": "stdout",
     "output_type": "stream",
     "text": [
      "['Age', 'Gender_indexed', 'Income', 'Education_Level_indexed', 'Travel_Frequency', 'Preferred_Activities_indexed', 'Vacation_Budget', 'Location_indexed', 'Proximity_to_Mountains', 'Proximity_to_Beaches', 'Favorite_Season_indexed', 'Pets', 'Environmental_Concerns', 'Gender_indexed', 'Education_Level_indexed', 'Preferred_Activities_indexed', 'Location_indexed', 'Favorite_Season_indexed']\n"
     ]
    }
   ],
   "source": [
    "# Zbiór cech do modelu\n",
    "feature_columns = [f\"{col}_indexed\" if col in string_cols else col for col in balanced_df.columns if col != \"Preference\"]\n",
    "print(feature_columns)"
   ]
  },
  {
   "cell_type": "code",
   "execution_count": 94,
   "metadata": {},
   "outputs": [],
   "source": [
    "assembler = VectorAssembler(inputCols=feature_columns, outputCol=\"features\")"
   ]
  },
  {
   "cell_type": "code",
   "execution_count": 95,
   "metadata": {},
   "outputs": [],
   "source": [
    "# Normalizacja danych\n",
    "# scaler = StandardScaler(inputCol=\"features_raw\", outputCol=\"features\", withStd=True, withMean=True)"
   ]
  },
  {
   "cell_type": "code",
   "execution_count": 96,
   "metadata": {},
   "outputs": [],
   "source": [
    "# Random Forest Classifier\n",
    "rf = RandomForestClassifier(labelCol=\"Preference\", featuresCol=\"features\", seed=SEED)"
   ]
  },
  {
   "cell_type": "code",
   "execution_count": 97,
   "metadata": {},
   "outputs": [],
   "source": [
    "# Pipeline: indeksowanie + łączenie cech + model\n",
    "pipeline = Pipeline(stages=[assembler, rf])"
   ]
  },
  {
   "cell_type": "code",
   "execution_count": 98,
   "metadata": {},
   "outputs": [],
   "source": [
    "# Podział danych na zbiór treningowy i testowy\n",
    "train, test = balanced_df.randomSplit([0.7, 0.3], SEED)"
   ]
  },
  {
   "cell_type": "code",
   "execution_count": 99,
   "metadata": {},
   "outputs": [],
   "source": [
    "# Trening modelu\n",
    "model = pipeline.fit(train)"
   ]
  },
  {
   "cell_type": "code",
   "execution_count": 100,
   "metadata": {},
   "outputs": [
    {
     "name": "stdout",
     "output_type": "stream",
     "text": [
      "+--------------------+----------+----------+\n",
      "|            features|Preference|prediction|\n",
      "+--------------------+----------+----------+\n",
      "|[18.0,1.0,20869.0...|         1|       1.0|\n",
      "|[18.0,1.0,26859.0...|         1|       1.0|\n",
      "|[18.0,1.0,27300.0...|         1|       1.0|\n",
      "|[18.0,1.0,31168.0...|         1|       1.0|\n",
      "|[18.0,1.0,35576.0...|         1|       1.0|\n",
      "|[18.0,1.0,37814.0...|         1|       1.0|\n",
      "|[18.0,1.0,38112.0...|         1|       1.0|\n",
      "|[18.0,1.0,42012.0...|         1|       1.0|\n",
      "|[18.0,1.0,42608.0...|         1|       1.0|\n",
      "|[18.0,1.0,46376.0...|         1|       1.0|\n",
      "|[18.0,1.0,47577.0...|         1|       1.0|\n",
      "|[18.0,1.0,49800.0...|         1|       1.0|\n",
      "|[18.0,1.0,50318.0...|         1|       1.0|\n",
      "|[18.0,1.0,51790.0...|         1|       1.0|\n",
      "|[18.0,1.0,52714.0...|         1|       1.0|\n",
      "|[18.0,1.0,54204.0...|         1|       1.0|\n",
      "|[18.0,1.0,54598.0...|         1|       1.0|\n",
      "|[18.0,1.0,58402.0...|         1|       1.0|\n",
      "|[18.0,1.0,63528.0...|         1|       1.0|\n",
      "|[18.0,1.0,66132.0...|         1|       1.0|\n",
      "+--------------------+----------+----------+\n",
      "only showing top 20 rows\n",
      "\n"
     ]
    }
   ],
   "source": [
    "# Ewaluacja modelu\n",
    "predictions = model.transform(test)\n",
    "predictions.select(\"features\", \"Preference\", \"prediction\").show()"
   ]
  },
  {
   "cell_type": "code",
   "execution_count": 101,
   "metadata": {},
   "outputs": [
    {
     "name": "stdout",
     "output_type": "stream",
     "text": [
      "+----------+----------+-----+\n",
      "|Preference|prediction|count|\n",
      "+----------+----------+-----+\n",
      "|         1|       1.0| 3841|\n",
      "|         0|       0.0| 3501|\n",
      "|         0|       1.0|  402|\n",
      "+----------+----------+-----+\n",
      "\n"
     ]
    }
   ],
   "source": [
    "pred_result = predictions.groupBy('Preference', 'prediction').count()\n",
    "pred_result.show()"
   ]
  },
  {
   "cell_type": "code",
   "execution_count": 102,
   "metadata": {},
   "outputs": [
    {
     "data": {
      "image/png": "[encoded data removed]",
      "text/plain": [
       "<Figure size 800x600 with 2 Axes>"
      ]
     },
     "metadata": {},
     "output_type": "display_data"
    }
   ],
   "source": [
    "import numpy as np\n",
    "import pandas as pd\n",
    "import seaborn as sns\n",
    "import matplotlib.pyplot as plt\n",
    "\n",
    "conf_matrix = pred_result.toPandas()\n",
    "\n",
    "matrix = np.zeros((2, 2))\n",
    "for _, row in conf_matrix.iterrows():\n",
    "    true_label = int(row[\"Preference\"])\n",
    "    pred_label = int(row[\"prediction\"])\n",
    "    count = int(row[\"count\"])\n",
    "    matrix[true_label][pred_label] = count\n",
    "\n",
    "conf_matrix_df = pd.DataFrame(matrix)\n",
    "\n",
    "plt.figure(figsize=(8, 6))\n",
    "sns.heatmap(conf_matrix_df, annot=True, fmt=\"g\", cmap=\"Blues\")\n",
    "plt.title(f\"Confusion Matrix accuracy: {np.trace(matrix)/np.sum(matrix)*100:.2f}%\")\n",
    "plt.ylabel(\"Actual\")\n",
    "plt.xlabel(\"Predicted\")\n",
    "plt.show()"
   ]
  },
  {
   "cell_type": "code",
   "execution_count": 103,
   "metadata": {},
   "outputs": [],
   "source": [
    "model.write().overwrite().save('/model/Balanced')"
   ]
  },
  {
   "cell_type": "code",
   "execution_count": 104,
   "metadata": {},
   "outputs": [],
   "source": [
    "# Zatrzymanie SparkSession\n",
    "# spark.stop()"
   ]
  },
  {
   "cell_type": "code",
   "execution_count": null,
   "metadata": {},
   "outputs": [
    {
     "name": "stdout",
     "output_type": "stream",
     "text": [
      "['Gender', 'Education_Level', 'Preferred_Activities', 'Location', 'Favorite_Season']\n",
      "+----------+----------+-----+\n",
      "|Preference|prediction|count|\n",
      "+----------+----------+-----+\n",
      "|         1|       0.0| 6564|\n",
      "|         0|       0.0|28618|\n",
      "|         1|       1.0| 6584|\n",
      "|         0|       1.0|10678|\n",
      "+----------+----------+-----+\n",
      "\n"
     ]
    },
    {
     "data": {
      "image/png": "[encoded data removed]",
      "text/plain": [
       "<Figure size 800x600 with 2 Axes>"
      ]
     },
     "metadata": {},
     "output_type": "display_data"
    }
   ],
   "source": [
    "# Indeksowanie kolumn typu string (zakodowanie ich na wartości numeryczne)\n",
    "full_df = df\n",
    "string_cols = [field.name for field in df.schema.fields if str(field.dataType) == 'StringType()']\n",
    "print(string_cols)\n",
    "for col in string_cols:\n",
    "    indexer = StringIndexer(inputCol=col, outputCol=f\"{col}_indexed\")\n",
    "    full_df = indexer.fit(full_df).transform(full_df)\n",
    "    \n",
    "# Ewaluacja modelu\n",
    "full_data_predictions = model.transform(full_df)\n",
    "# full_data_predictions.select(\"features\", \"Preference\", \"prediction\").show()\n",
    "\n",
    "full_data_pred_result = full_data_predictions.groupBy('Preference', 'prediction').count()\n",
    "\n",
    "full_data_conf_matrix = full_data_pred_result.toPandas()\n",
    "\n",
    "full_data_matrix = np.zeros((2, 2))\n",
    "for _, row in full_data_conf_matrix.iterrows():\n",
    "    true_label = int(row[\"Preference\"])\n",
    "    pred_label = int(row[\"prediction\"])\n",
    "    count = int(row[\"count\"])\n",
    "    full_data_matrix[true_label][pred_label] = count\n",
    "\n",
    "full_data_conf_matrix_df = pd.DataFrame(full_data_matrix)\n",
    "plt.figure(figsize=(8, 6))\n",
    "sns.heatmap(full_data_conf_matrix_df, annot=True, fmt=\"g\", cmap=\"Blues\")\n",
    "plt.title(f\"Confusion Matrix Accuracy: {np.trace(matrix)/np.sum(matrix)*100:.2f}%\")\n",
    "plt.ylabel(\"Actual\")\n",
    "plt.xlabel(\"Predicted\")\n",
    "plt.show()"
   ]
  },
  {
   "cell_type": "code",
   "execution_count": null,
   "metadata": {},
   "outputs": [],
   "source": []
  }
 ],
 "metadata": {
  "kernelspec": {
   "display_name": "Python 3",
   "language": "python",
   "name": "python3"
  },
  "language_info": {
   "codemirror_mode": {
    "name": "ipython",
    "version": 3
   },
   "file_extension": ".py",
   "mimetype": "text/x-python",
   "name": "python",
   "nbconvert_exporter": "python",
   "pygments_lexer": "ipython3",
   "version": "3.11.0"
  }
 },
 "nbformat": 4,
 "nbformat_minor": 2
}
