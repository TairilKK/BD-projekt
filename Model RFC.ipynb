{
 "cells": [
  {
   "cell_type": "code",
   "execution_count": 74,
   "metadata": {},
   "outputs": [],
   "source": [
    "from pyspark.sql import SparkSession\n",
    "from pyspark.ml.classification import RandomForestClassifier\n",
    "from pyspark.ml.feature import StringIndexer, VectorAssembler, StandardScaler\n",
    "from pyspark.ml import Pipeline"
   ]
  },
  {
   "cell_type": "code",
   "execution_count": 75,
   "metadata": {},
   "outputs": [],
   "source": [
    "SEED = 42"
   ]
  },
  {
   "cell_type": "code",
   "execution_count": 76,
   "metadata": {},
   "outputs": [],
   "source": [
    "spark = SparkSession.builder.appName(\"BigData projekt model\").getOrCreate()"
   ]
  },
  {
   "cell_type": "code",
   "execution_count": 77,
   "metadata": {},
   "outputs": [],
   "source": [
    "df = spark.read.csv(\"data/mountains_vs_beaches_preferences.csv\",\n",
    "                    sep=';',\n",
    "                    inferSchema=True,\n",
    "                    header=True)"
   ]
  },
  {
   "cell_type": "code",
   "execution_count": 78,
   "metadata": {},
   "outputs": [
    {
     "name": "stdout",
     "output_type": "stream",
     "text": [
      "+---+----------+------+---------------+----------------+--------------------+---------------+--------+----------------------+--------------------+---------------+----+----------------------+----------+\n",
      "|Age|    Gender|Income|Education_Level|Travel_Frequency|Preferred_Activities|Vacation_Budget|Location|Proximity_to_Mountains|Proximity_to_Beaches|Favorite_Season|Pets|Environmental_Concerns|Preference|\n",
      "+---+----------+------+---------------+----------------+--------------------+---------------+--------+----------------------+--------------------+---------------+----+----------------------+----------+\n",
      "| 56|      male| 71477|       bachelor|               9|              skiing|           2477|   urban|                   175|                 267|         summer|   0|                     1|         1|\n",
      "| 69|      male| 88740|         master|               1|            swimming|           4777|suburban|                   228|                 190|           fall|   0|                     1|         0|\n",
      "| 46|    female| 46562|         master|               0|              skiing|           1469|   urban|                    71|                 280|         winter|   0|                     0|         1|\n",
      "| 32|non-binary| 99044|    high school|               6|              hiking|           1482|   rural|                    31|                 255|         summer|   1|                     0|         1|\n",
      "| 60|    female|106583|    high school|               5|          sunbathing|            516|suburban|                    23|                 151|         winter|   1|                     1|         0|\n",
      "| 25|      male|110588|      doctorate|               3|          sunbathing|           2895|   urban|                     6|                  47|           fall|   0|                     1|         0|\n",
      "| 38|      male| 22245|       bachelor|               1|            swimming|           4994|   rural|                   157|                 225|           fall|   0|                     1|         0|\n",
      "| 56|non-binary|109411|       bachelor|               8|          sunbathing|           3656|   urban|                   210|                 166|         winter|   1|                     0|         0|\n",
      "| 36|      male| 22531|         master|               6|            swimming|           2408|suburban|                   218|                 263|         summer|   1|                     1|         0|\n",
      "| 40|non-binary| 90840|    high school|               1|            swimming|           4044|   rural|                   271|                  15|         summer|   1|                     1|         0|\n",
      "| 28|    female| 42036|         master|               4|              skiing|           3495|suburban|                   159|                  51|         spring|   0|                     1|         0|\n",
      "| 28|non-binary| 97902|    high school|               3|              skiing|           1747|   urban|                    33|                  21|         winter|   1|                     0|         0|\n",
      "| 41|    female| 52794|       bachelor|               7|              hiking|           1591|suburban|                   130|                 254|         summer|   1|                     1|         1|\n",
      "| 53|    female| 93042|       bachelor|               9|          sunbathing|           2221|   rural|                   211|                 148|           fall|   0|                     1|         0|\n",
      "| 57|      male| 65802|    high school|               3|              hiking|           2607|suburban|                    36|                 258|           fall|   0|                     0|         1|\n",
      "| 41|    female| 99810|         master|               2|              skiing|           2830|   urban|                    77|                 209|           fall|   1|                     1|         1|\n",
      "| 20|      male|112635|       bachelor|               7|          sunbathing|            675|   rural|                   280|                 211|         winter|   0|                     0|         0|\n",
      "| 39|non-binary| 52469|      doctorate|               4|              hiking|           4979|   rural|                   253|                  50|         summer|   0|                     1|         0|\n",
      "| 19|non-binary| 69522|       bachelor|               5|          sunbathing|           4028|   rural|                   162|                 293|           fall|   0|                     0|         0|\n",
      "| 41|    female| 46992|      doctorate|               1|              hiking|            803|   urban|                   207|                 162|         summer|   0|                     0|         0|\n",
      "+---+----------+------+---------------+----------------+--------------------+---------------+--------+----------------------+--------------------+---------------+----+----------------------+----------+\n",
      "only showing top 20 rows\n",
      "\n"
     ]
    }
   ],
   "source": [
    "df.show()"
   ]
  },
  {
   "cell_type": "code",
   "execution_count": 79,
   "metadata": {},
   "outputs": [
    {
     "name": "stdout",
     "output_type": "stream",
     "text": [
      "Schema:\n",
      "root\n",
      " |-- Age: integer (nullable = true)\n",
      " |-- Gender: string (nullable = true)\n",
      " |-- Income: integer (nullable = true)\n",
      " |-- Education_Level: string (nullable = true)\n",
      " |-- Travel_Frequency: integer (nullable = true)\n",
      " |-- Preferred_Activities: string (nullable = true)\n",
      " |-- Vacation_Budget: integer (nullable = true)\n",
      " |-- Location: string (nullable = true)\n",
      " |-- Proximity_to_Mountains: integer (nullable = true)\n",
      " |-- Proximity_to_Beaches: integer (nullable = true)\n",
      " |-- Favorite_Season: string (nullable = true)\n",
      " |-- Pets: integer (nullable = true)\n",
      " |-- Environmental_Concerns: integer (nullable = true)\n",
      " |-- Preference: integer (nullable = true)\n",
      "\n"
     ]
    }
   ],
   "source": [
    "print(\"Schema:\")\n",
    "df.printSchema()"
   ]
  },
  {
   "cell_type": "code",
   "execution_count": 80,
   "metadata": {},
   "outputs": [
    {
     "name": "stdout",
     "output_type": "stream",
     "text": [
      "['Gender', 'Education_Level', 'Preferred_Activities', 'Location', 'Favorite_Season']\n"
     ]
    }
   ],
   "source": [
    "# Indeksowanie kolumn typu string (zakodowanie ich na wartości numeryczne)\n",
    "string_cols = [field.name for field in df.schema.fields if str(field.dataType) == 'StringType()']\n",
    "print(string_cols)"
   ]
  },
  {
   "cell_type": "code",
   "execution_count": 81,
   "metadata": {},
   "outputs": [],
   "source": [
    "for col in string_cols:\n",
    "    indexer = StringIndexer(inputCol=col, outputCol=f\"{col}_indexed\")\n",
    "    df = indexer.fit(df).transform(df)"
   ]
  },
  {
   "cell_type": "code",
   "execution_count": 82,
   "metadata": {},
   "outputs": [
    {
     "name": "stdout",
     "output_type": "stream",
     "text": [
      "Schema:\n",
      "root\n",
      " |-- Age: integer (nullable = true)\n",
      " |-- Gender: string (nullable = true)\n",
      " |-- Income: integer (nullable = true)\n",
      " |-- Education_Level: string (nullable = true)\n",
      " |-- Travel_Frequency: integer (nullable = true)\n",
      " |-- Preferred_Activities: string (nullable = true)\n",
      " |-- Vacation_Budget: integer (nullable = true)\n",
      " |-- Location: string (nullable = true)\n",
      " |-- Proximity_to_Mountains: integer (nullable = true)\n",
      " |-- Proximity_to_Beaches: integer (nullable = true)\n",
      " |-- Favorite_Season: string (nullable = true)\n",
      " |-- Pets: integer (nullable = true)\n",
      " |-- Environmental_Concerns: integer (nullable = true)\n",
      " |-- Preference: integer (nullable = true)\n",
      " |-- Gender_indexed: double (nullable = false)\n",
      " |-- Education_Level_indexed: double (nullable = false)\n",
      " |-- Preferred_Activities_indexed: double (nullable = false)\n",
      " |-- Location_indexed: double (nullable = false)\n",
      " |-- Favorite_Season_indexed: double (nullable = false)\n",
      "\n"
     ]
    }
   ],
   "source": [
    "# Sprawdzenie schematu danych\n",
    "print(\"Schema:\")\n",
    "df.printSchema()\n"
   ]
  },
  {
   "cell_type": "code",
   "execution_count": 83,
   "metadata": {},
   "outputs": [
    {
     "name": "stdout",
     "output_type": "stream",
     "text": [
      "['Age', 'Gender_indexed', 'Income', 'Education_Level_indexed', 'Travel_Frequency', 'Preferred_Activities_indexed', 'Vacation_Budget', 'Location_indexed', 'Proximity_to_Mountains', 'Proximity_to_Beaches', 'Favorite_Season_indexed', 'Pets', 'Environmental_Concerns', 'Gender_indexed', 'Education_Level_indexed', 'Preferred_Activities_indexed', 'Location_indexed', 'Favorite_Season_indexed']\n"
     ]
    }
   ],
   "source": [
    "# Zbiór cech do modelu\n",
    "feature_columns = [f\"{col}_indexed\" if col in string_cols else col for col in df.columns if col != \"Preference\"]\n",
    "print(feature_columns)"
   ]
  },
  {
   "cell_type": "code",
   "execution_count": 84,
   "metadata": {},
   "outputs": [
    {
     "name": "stdout",
     "output_type": "stream",
     "text": [
      "VectorAssembler_c3a94d8ae71e\n"
     ]
    }
   ],
   "source": [
    "assembler = VectorAssembler(inputCols=feature_columns, outputCol=\"features\")\n",
    "print(assembler)"
   ]
  },
  {
   "cell_type": "code",
   "execution_count": 85,
   "metadata": {},
   "outputs": [],
   "source": [
    "# Normalizacja danych\n",
    "# scaler = StandardScaler(inputCol=\"features_raw\", outputCol=\"features\", withStd=True, withMean=True)"
   ]
  },
  {
   "cell_type": "code",
   "execution_count": 86,
   "metadata": {},
   "outputs": [],
   "source": [
    "# Random Forest Classifier\n",
    "rf = RandomForestClassifier(labelCol=\"Preference\", featuresCol=\"features\", seed=SEED)"
   ]
  },
  {
   "cell_type": "code",
   "execution_count": 87,
   "metadata": {},
   "outputs": [],
   "source": [
    "# Pipeline: indeksowanie + łączenie cech + model\n",
    "pipeline = Pipeline(stages=[assembler, rf])"
   ]
  },
  {
   "cell_type": "code",
   "execution_count": 88,
   "metadata": {},
   "outputs": [],
   "source": [
    "# Podział danych na zbiór treningowy i testowy\n",
    "train, test = df.randomSplit([0.7, 0.3], SEED)"
   ]
  },
  {
   "cell_type": "code",
   "execution_count": 89,
   "metadata": {},
   "outputs": [],
   "source": [
    "# Trening modelu\n",
    "model = pipeline.fit(train)"
   ]
  },
  {
   "cell_type": "code",
   "execution_count": 90,
   "metadata": {},
   "outputs": [
    {
     "name": "stdout",
     "output_type": "stream",
     "text": [
      "+--------------------+----------+----------+\n",
      "|            features|Preference|prediction|\n",
      "+--------------------+----------+----------+\n",
      "|[18.0,0.0,20312.0...|         0|       0.0|\n",
      "|[18.0,0.0,20848.0...|         0|       0.0|\n",
      "|[18.0,0.0,21186.0...|         1|       1.0|\n",
      "|[18.0,0.0,21583.0...|         0|       0.0|\n",
      "|[18.0,0.0,23403.0...|         0|       0.0|\n",
      "|[18.0,0.0,23829.0...|         0|       0.0|\n",
      "|[18.0,0.0,25711.0...|         1|       1.0|\n",
      "|[18.0,0.0,26859.0...|         1|       1.0|\n",
      "|(18,[0,2,6,7,8,9,...|         0|       0.0|\n",
      "|(18,[0,2,3,4,6,8,...|         0|       0.0|\n",
      "|[18.0,0.0,27140.0...|         0|       0.0|\n",
      "|(18,[0,2,3,4,6,8,...|         0|       0.0|\n",
      "|[18.0,0.0,27901.0...|         0|       0.0|\n",
      "|[18.0,0.0,27971.0...|         0|       0.0|\n",
      "|[18.0,0.0,28668.0...|         0|       0.0|\n",
      "|[18.0,0.0,29675.0...|         0|       0.0|\n",
      "|[18.0,0.0,29772.0...|         0|       0.0|\n",
      "|[18.0,0.0,31168.0...|         1|       1.0|\n",
      "|[18.0,0.0,31451.0...|         0|       0.0|\n",
      "|[18.0,0.0,31493.0...|         0|       0.0|\n",
      "+--------------------+----------+----------+\n",
      "only showing top 20 rows\n",
      "\n"
     ]
    }
   ],
   "source": [
    "# Ewaluacja modelu\n",
    "predictions = model.transform(test)\n",
    "predictions.select(\"features\", \"Preference\", \"prediction\").show()"
   ]
  },
  {
   "cell_type": "code",
   "execution_count": 91,
   "metadata": {},
   "outputs": [
    {
     "name": "stdout",
     "output_type": "stream",
     "text": [
      "+----------+----------+-----+\n",
      "|Preference|prediction|count|\n",
      "+----------+----------+-----+\n",
      "|         1|       0.0|  206|\n",
      "|         0|       0.0|11514|\n",
      "|         1|       1.0| 3730|\n",
      "|         0|       1.0|  243|\n",
      "+----------+----------+-----+\n",
      "\n"
     ]
    }
   ],
   "source": [
    "pred_result = predictions.groupBy('Preference', 'prediction').count()\n",
    "pred_result.show()"
   ]
  },
  {
   "cell_type": "code",
   "execution_count": 92,
   "metadata": {},
   "outputs": [
    {
     "data": {
      "image/png": "[encoded data removed]",
      "text/plain": [
       "<Figure size 800x600 with 2 Axes>"
      ]
     },
     "metadata": {},
     "output_type": "display_data"
    }
   ],
   "source": [
    "import numpy as np\n",
    "import pandas as pd\n",
    "import seaborn as sns\n",
    "import matplotlib.pyplot as plt\n",
    "\n",
    "conf_matrix = pred_result.toPandas()\n",
    "matrix = np.zeros((2, 2))\n",
    "for _, row in conf_matrix.iterrows():\n",
    "    true_label = int(row[\"Preference\"])\n",
    "    pred_label = int(row[\"prediction\"])\n",
    "    count = int(row[\"count\"])\n",
    "    matrix[true_label][pred_label] = count\n",
    "\n",
    "conf_matrix_df = pd.DataFrame(matrix)\n",
    "\n",
    "plt.figure(figsize=(8, 6))\n",
    "sns.heatmap(conf_matrix_df, annot=True, fmt=\"g\", cmap=\"Blues\")\n",
    "plt.title(f\"Confusion Matrix Accuracy: {np.trace(matrix)/np.sum(matrix)*100:.2f}%\")\n",
    "plt.ylabel(\"Actual\")\n",
    "plt.xlabel(\"Predicted\")\n",
    "plt.show()"
   ]
  },
  {
   "cell_type": "code",
   "execution_count": 93,
   "metadata": {},
   "outputs": [],
   "source": [
    "model.write().overwrite().save('./model/RandomForestClassifier')"
   ]
  },
  {
   "cell_type": "code",
   "execution_count": 94,
   "metadata": {},
   "outputs": [],
   "source": [
    "# Zatrzymanie SparkSession\n",
    "# spark.stop()"
   ]
  },
  {
   "cell_type": "code",
   "execution_count": 95,
   "metadata": {},
   "outputs": [
    {
     "name": "stdout",
     "output_type": "stream",
     "text": [
      "+----------+----------+-----+\n",
      "|Preference|prediction|count|\n",
      "+----------+----------+-----+\n",
      "|         1|       0.0|  670|\n",
      "|         0|       0.0|38522|\n",
      "|         1|       1.0|12478|\n",
      "|         0|       1.0|  774|\n",
      "+----------+----------+-----+\n",
      "\n"
     ]
    },
    {
     "data": {
      "image/png": "[encoded data removed]",
      "text/plain": [
       "<Figure size 800x600 with 2 Axes>"
      ]
     },
     "metadata": {},
     "output_type": "display_data"
    }
   ],
   "source": [
    "# Indeksowanie kolumn typu string (zakodowanie ich na wartości numeryczne)\n",
    "full_df = df\n",
    "# string_cols = [field.name for field in df.schema.fields if str(field.dataType) == 'StringType()']\n",
    "# print(string_cols)\n",
    "# for col in string_cols:\n",
    "#     indexer = StringIndexer(inputCol=col, outputCol=f\"{col}_indexed\")\n",
    "#     full_df = indexer.fit(full_df).transform(full_df)\n",
    "    \n",
    "# Ewaluacja modelu\n",
    "full_data_predictions = model.transform(full_df)\n",
    "# full_data_predictions.select(\"features\", \"Preference\", \"prediction\").show()\n",
    "\n",
    "full_data_pred_result = full_data_predictions.groupBy('Preference', 'prediction').count()\n",
    "\n",
    "full_data_conf_matrix = full_data_pred_result.toPandas()\n",
    "\n",
    "full_data_matrix = np.zeros((2, 2))\n",
    "for _, row in full_data_conf_matrix.iterrows():\n",
    "    true_label = int(row[\"Preference\"])\n",
    "    pred_label = int(row[\"prediction\"])\n",
    "    count = int(row[\"count\"])\n",
    "    full_data_matrix[true_label][pred_label] = count\n",
    "\n",
    "full_data_conf_matrix_df = pd.DataFrame(full_data_matrix)\n",
    "plt.figure(figsize=(8, 6))\n",
    "sns.heatmap(full_data_conf_matrix_df, annot=True, fmt=\"g\", cmap=\"Blues\")\n",
    "plt.title(f\"Confusion Matrix Accuracy: {np.trace(full_data_matrix)/np.sum(full_data_matrix)*100:.2f}%\")\n",
    "plt.ylabel(\"Actual\")\n",
    "plt.xlabel(\"Predicted\")\n",
    "plt.show()\n"
   ]
  }
 ],
 "metadata": {
  "kernelspec": {
   "display_name": "Python 3",
   "language": "python",
   "name": "python3"
  },
  "language_info": {
   "codemirror_mode": {
    "name": "ipython",
    "version": 3
   },
   "file_extension": ".py",
   "mimetype": "text/x-python",
   "name": "python",
   "nbconvert_exporter": "python",
   "pygments_lexer": "ipython3",
   "version": "3.11.0"
  }
 },
 "nbformat": 4,
 "nbformat_minor": 2
}
