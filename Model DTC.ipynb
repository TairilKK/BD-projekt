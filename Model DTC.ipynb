{
 "cells": [
  {
   "cell_type": "code",
   "execution_count": 20,
   "metadata": {},
   "outputs": [],
   "source": [
    "from pyspark.sql import SparkSession\n",
    "from pyspark.ml.classification import DecisionTreeClassifier\n",
    "from pyspark.ml.feature import StringIndexer, VectorAssembler\n",
    "from pyspark.ml import Pipeline"
   ]
  },
  {
   "cell_type": "code",
   "execution_count": 21,
   "metadata": {},
   "outputs": [],
   "source": [
    "SEED = 42"
   ]
  },
  {
   "cell_type": "code",
   "execution_count": 22,
   "metadata": {},
   "outputs": [],
   "source": [
    "spark = SparkSession.builder.appName(\"BigData projekt model\").getOrCreate()"
   ]
  },
  {
   "cell_type": "code",
   "execution_count": 23,
   "metadata": {},
   "outputs": [],
   "source": [
    "df = spark.read.csv(\"data/mountains_vs_beaches_preferences.csv\",\n",
    "                    sep=';',\n",
    "                    inferSchema=True,\n",
    "                    header=True)"
   ]
  },
  {
   "cell_type": "code",
   "execution_count": 24,
   "metadata": {},
   "outputs": [
    {
     "name": "stdout",
     "output_type": "stream",
     "text": [
      "Schema:\n",
      "root\n",
      " |-- Age: integer (nullable = true)\n",
      " |-- Gender: string (nullable = true)\n",
      " |-- Income: integer (nullable = true)\n",
      " |-- Education_Level: string (nullable = true)\n",
      " |-- Travel_Frequency: integer (nullable = true)\n",
      " |-- Preferred_Activities: string (nullable = true)\n",
      " |-- Vacation_Budget: integer (nullable = true)\n",
      " |-- Location: string (nullable = true)\n",
      " |-- Proximity_to_Mountains: integer (nullable = true)\n",
      " |-- Proximity_to_Beaches: integer (nullable = true)\n",
      " |-- Favorite_Season: string (nullable = true)\n",
      " |-- Pets: integer (nullable = true)\n",
      " |-- Environmental_Concerns: integer (nullable = true)\n",
      " |-- Preference: integer (nullable = true)\n",
      "\n"
     ]
    }
   ],
   "source": [
    "print(\"Schema:\")\n",
    "df.printSchema()"
   ]
  },
  {
   "cell_type": "code",
   "execution_count": 25,
   "metadata": {},
   "outputs": [
    {
     "name": "stdout",
     "output_type": "stream",
     "text": [
      "['Gender', 'Education_Level', 'Preferred_Activities', 'Location', 'Favorite_Season']\n"
     ]
    }
   ],
   "source": [
    "# Indeksowanie kolumn typu string (zakodowanie ich na wartości numeryczne)\n",
    "string_cols = [field.name for field in df.schema.fields if str(field.dataType) == 'StringType()']\n",
    "print(string_cols)"
   ]
  },
  {
   "cell_type": "code",
   "execution_count": 26,
   "metadata": {},
   "outputs": [],
   "source": [
    "for col in string_cols:\n",
    "    indexer = StringIndexer(inputCol=col, outputCol=f\"{col}_indexed\")\n",
    "    df = indexer.fit(df).transform(df)"
   ]
  },
  {
   "cell_type": "code",
   "execution_count": 27,
   "metadata": {},
   "outputs": [
    {
     "name": "stdout",
     "output_type": "stream",
     "text": [
      "Schema:\n",
      "root\n",
      " |-- Age: integer (nullable = true)\n",
      " |-- Gender: string (nullable = true)\n",
      " |-- Income: integer (nullable = true)\n",
      " |-- Education_Level: string (nullable = true)\n",
      " |-- Travel_Frequency: integer (nullable = true)\n",
      " |-- Preferred_Activities: string (nullable = true)\n",
      " |-- Vacation_Budget: integer (nullable = true)\n",
      " |-- Location: string (nullable = true)\n",
      " |-- Proximity_to_Mountains: integer (nullable = true)\n",
      " |-- Proximity_to_Beaches: integer (nullable = true)\n",
      " |-- Favorite_Season: string (nullable = true)\n",
      " |-- Pets: integer (nullable = true)\n",
      " |-- Environmental_Concerns: integer (nullable = true)\n",
      " |-- Preference: integer (nullable = true)\n",
      " |-- Gender_indexed: double (nullable = false)\n",
      " |-- Education_Level_indexed: double (nullable = false)\n",
      " |-- Preferred_Activities_indexed: double (nullable = false)\n",
      " |-- Location_indexed: double (nullable = false)\n",
      " |-- Favorite_Season_indexed: double (nullable = false)\n",
      "\n"
     ]
    }
   ],
   "source": [
    "# Sprawdzenie schematu danych\n",
    "print(\"Schema:\")\n",
    "df.printSchema()\n"
   ]
  },
  {
   "cell_type": "code",
   "execution_count": 28,
   "metadata": {},
   "outputs": [
    {
     "name": "stdout",
     "output_type": "stream",
     "text": [
      "['Age', 'Gender_indexed', 'Income', 'Education_Level_indexed', 'Travel_Frequency', 'Preferred_Activities_indexed', 'Vacation_Budget', 'Location_indexed', 'Proximity_to_Mountains', 'Proximity_to_Beaches', 'Favorite_Season_indexed', 'Pets', 'Environmental_Concerns', 'Gender_indexed', 'Education_Level_indexed', 'Preferred_Activities_indexed', 'Location_indexed', 'Favorite_Season_indexed']\n"
     ]
    }
   ],
   "source": [
    "# Zbiór cech do modelu\n",
    "feature_columns = [f\"{col}_indexed\" if col in string_cols else col for col in df.columns if col != \"Preference\"]\n",
    "print(feature_columns)"
   ]
  },
  {
   "cell_type": "code",
   "execution_count": 29,
   "metadata": {},
   "outputs": [
    {
     "name": "stdout",
     "output_type": "stream",
     "text": [
      "VectorAssembler_956b47d9a778\n"
     ]
    }
   ],
   "source": [
    "assembler = VectorAssembler(inputCols=feature_columns, outputCol=\"features\")\n",
    "print(assembler)"
   ]
  },
  {
   "cell_type": "code",
   "execution_count": 30,
   "metadata": {},
   "outputs": [],
   "source": [
    "# Random Forest Classifier\n",
    "dt = DecisionTreeClassifier(labelCol=\"Preference\", featuresCol=\"features\", seed=SEED)"
   ]
  },
  {
   "cell_type": "code",
   "execution_count": 31,
   "metadata": {},
   "outputs": [],
   "source": [
    "# Pipeline: indeksowanie + łączenie cech + model\n",
    "pipeline = Pipeline(stages=[assembler, dt])"
   ]
  },
  {
   "cell_type": "code",
   "execution_count": 32,
   "metadata": {},
   "outputs": [],
   "source": [
    "# Podział danych na zbiór treningowy i testowy\n",
    "train, test = df.randomSplit([0.7, 0.3], SEED)"
   ]
  },
  {
   "cell_type": "code",
   "execution_count": 33,
   "metadata": {},
   "outputs": [],
   "source": [
    "# Trening modelu\n",
    "model = pipeline.fit(train)"
   ]
  },
  {
   "cell_type": "code",
   "execution_count": 34,
   "metadata": {},
   "outputs": [
    {
     "name": "stdout",
     "output_type": "stream",
     "text": [
      "+--------------------+----------+----------+\n",
      "|            features|Preference|prediction|\n",
      "+--------------------+----------+----------+\n",
      "|[18.0,0.0,20312.0...|         0|       0.0|\n",
      "|[18.0,0.0,20848.0...|         0|       0.0|\n",
      "|[18.0,0.0,21186.0...|         1|       1.0|\n",
      "|[18.0,0.0,21583.0...|         0|       0.0|\n",
      "|[18.0,0.0,23403.0...|         0|       0.0|\n",
      "|[18.0,0.0,23829.0...|         0|       0.0|\n",
      "|[18.0,0.0,25711.0...|         1|       1.0|\n",
      "|[18.0,0.0,26859.0...|         1|       1.0|\n",
      "|(18,[0,2,6,7,8,9,...|         0|       0.0|\n",
      "|(18,[0,2,3,4,6,8,...|         0|       0.0|\n",
      "|[18.0,0.0,27140.0...|         0|       0.0|\n",
      "|(18,[0,2,3,4,6,8,...|         0|       0.0|\n",
      "|[18.0,0.0,27901.0...|         0|       0.0|\n",
      "|[18.0,0.0,27971.0...|         0|       0.0|\n",
      "|[18.0,0.0,28668.0...|         0|       0.0|\n",
      "|[18.0,0.0,29675.0...|         0|       0.0|\n",
      "|[18.0,0.0,29772.0...|         0|       0.0|\n",
      "|[18.0,0.0,31168.0...|         1|       1.0|\n",
      "|[18.0,0.0,31451.0...|         0|       0.0|\n",
      "|[18.0,0.0,31493.0...|         0|       0.0|\n",
      "+--------------------+----------+----------+\n",
      "only showing top 20 rows\n",
      "\n"
     ]
    }
   ],
   "source": [
    "# Ewaluacja modelu\n",
    "predictions = model.transform(test)\n",
    "predictions.select(\"features\", \"Preference\", \"prediction\").show()"
   ]
  },
  {
   "cell_type": "code",
   "execution_count": 35,
   "metadata": {},
   "outputs": [
    {
     "name": "stdout",
     "output_type": "stream",
     "text": [
      "+----------+----------+-----+\n",
      "|Preference|prediction|count|\n",
      "+----------+----------+-----+\n",
      "|         1|       0.0|  143|\n",
      "|         0|       0.0|11534|\n",
      "|         1|       1.0| 3793|\n",
      "|         0|       1.0|  223|\n",
      "+----------+----------+-----+\n",
      "\n"
     ]
    }
   ],
   "source": [
    "pred_result = predictions.groupBy('Preference', 'prediction').count()\n",
    "pred_result.show()"
   ]
  },
  {
   "cell_type": "code",
   "execution_count": 36,
   "metadata": {},
   "outputs": [
    {
     "data": {
      "image/png": "[encoded data removed]",
      "text/plain": [
       "<Figure size 800x600 with 2 Axes>"
      ]
     },
     "metadata": {},
     "output_type": "display_data"
    }
   ],
   "source": [
    "import numpy as np\n",
    "import pandas as pd\n",
    "import seaborn as sns\n",
    "import matplotlib.pyplot as plt\n",
    "\n",
    "conf_matrix = pred_result.toPandas()\n",
    "matrix = np.zeros((2, 2))\n",
    "for _, row in conf_matrix.iterrows():\n",
    "    true_label = int(row[\"Preference\"])\n",
    "    pred_label = int(row[\"prediction\"])\n",
    "    count = int(row[\"count\"])\n",
    "    matrix[true_label][pred_label] = count\n",
    "\n",
    "conf_matrix_df = pd.DataFrame(matrix)\n",
    "\n",
    "plt.figure(figsize=(8, 6))\n",
    "sns.heatmap(conf_matrix_df, annot=True, fmt=\"g\", cmap=\"Blues\")\n",
    "plt.title(\"Confusion Matrix\")\n",
    "plt.ylabel(\"Actual\")\n",
    "plt.xlabel(\"Predicted\")\n",
    "plt.show()"
   ]
  },
  {
   "cell_type": "code",
   "execution_count": 37,
   "metadata": {},
   "outputs": [],
   "source": [
    "model.write().overwrite().save('./model/DecisionTreeClassifier')"
   ]
  },
  {
   "cell_type": "code",
   "execution_count": 38,
   "metadata": {},
   "outputs": [],
   "source": [
    "# Zatrzymanie SparkSession\n",
    "# spark.stop()"
   ]
  },
  {
   "cell_type": "code",
   "execution_count": null,
   "metadata": {},
   "outputs": [],
   "source": []
  }
 ],
 "metadata": {
  "kernelspec": {
   "display_name": "Python 3",
   "language": "python",
   "name": "python3"
  },
  "language_info": {
   "codemirror_mode": {
    "name": "ipython",
    "version": 3
   },
   "file_extension": ".py",
   "mimetype": "text/x-python",
   "name": "python",
   "nbconvert_exporter": "python",
   "pygments_lexer": "ipython3",
   "version": "3.11.0"
  }
 },
 "nbformat": 4,
 "nbformat_minor": 2
}
